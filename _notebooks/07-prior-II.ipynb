{
 "cells": [
  {
   "cell_type": "code",
   "execution_count": null,
   "id": "6bbe179a",
   "metadata": {
    "lines_to_next_cell": 0,
    "message": false,
    "name": "setup",
    "tags": [
     "remove_input"
    ],
    "warning": false
   },
   "outputs": [],
   "source": [
    "knitr::opts_chunk$set(echo = FALSE)\n",
    "suppressMessages(expr =  {\n",
    "  if (\"xfun\" %in% row.names(installed.packages()) == FALSE) {\n",
    "    install.packages(\"xfun\")\n",
    "  }\n",
    "\n",
    "display_markdown <- \\(x) IRdisplay::display_markdown(as.character(x))\n",
    "display_html <- \\(x) IRdisplay::display_html(as.character(x))\n",
    "\n",
    "xfun::pkg_attach(\n",
    "    c(\"tidyverse\",\n",
    "      \"polspline\",\n",
    "      \"patchwork\",\n",
    "      \"magrittr\",\n",
    "      \"bayesplay\",\n",
    "      \"knitr\",\n",
    "      \"broom\",\n",
    "      \"bayesplay\"),\n",
    "      install = TRUE)\n",
    "\n",
    "})\n",
    "\n",
    "table_format <- \"html\"\n"
   ]
  },
  {
   "cell_type": "markdown",
   "id": "53b5b555",
   "metadata": {
    "lines_to_next_cell": 0
   },
   "source": [
    "# Choosing priors: Part II\n",
    "\n",
    "{{chunk_1}}"
   ]
  },
  {
   "cell_type": "code",
   "execution_count": null,
   "id": "b8031cd5",
   "metadata": {
    "lines_to_next_cell": 0,
    "name": "chunk_1"
   },
   "outputs": [],
   "source": [
    "# some code"
   ]
  },
  {
   "cell_type": "markdown",
   "id": "b49e7a73",
   "metadata": {},
   "source": []
  }
 ],
 "metadata": {
  "kernelspec": {
   "display_name": "R",
   "language": "R",
   "name": "ir"
  }
 },
 "nbformat": 4,
 "nbformat_minor": 5
}
