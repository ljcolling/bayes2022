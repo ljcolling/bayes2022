{
 "cells": [
  {
   "cell_type": "code",
   "execution_count": null,
   "id": "7a40ba4c",
   "metadata": {
    "lines_to_next_cell": 0,
    "name": "setup",
    "tags": [
     "remove_input"
    ]
   },
   "outputs": [],
   "source": [
    "knitr::opts_chunk$set(echo = FALSE)\n",
    "suppressMessages(expr =  {\n",
    "  if (\"patchwork\" %in% row.names(installed.packages()) == FALSE) {\n",
    "    install.packages(\"patchwork\")\n",
    "  }\n",
    "  if (\"bayesplay\" %in% row.names(installed.packages()) == FALSE) {\n",
    "    install.packages(\"bayesplay\")\n",
    "  }\n",
    "  if (\"polspline\" %in% row.names(installed.packages()) == FALSE) {\n",
    "    install.packages(\"polspline\")\n",
    "  }\n",
    "\n",
    "  if (\"IRdisplay\" %in% row.names(installed.packages()) == TRUE) {\n",
    "    display_markdown <<- \\(x) IRdisplay::display_markdown(as.character(x))\n",
    "    display_html <<- \\(x) IRdisplay::display_html(as.character(x))\n",
    "  } else {\n",
    "    display_markdown <<- knitr::asis_output\n",
    "    display_html <<- knitr::asis_output\n",
    "  }\n",
    "\n",
    "  library(tidyverse)\n",
    "  library(polspline)\n",
    "  library(patchwork)\n",
    "  library(magrittr)\n",
    "  library(bayesplay)\n",
    "})\n",
    "\n",
    "table_format <- \"html\"\n"
   ]
  },
  {
   "cell_type": "markdown",
   "id": "ded9e3d1",
   "metadata": {},
   "source": [
    "# The Bayes factor\n",
    "\n",
    "The primary aim of this course is to learn how to compute and interpret Bayes\n",
    "factors. But what is a Bayes factor? Well it turns out that we've already\n",
    "computed a Bayes factor. The Bayes factor is just the ratio that we computed in\n",
    "the previous section. The Bayes factor is a metric that compares the relative\n",
    "probability of obtaining our data under one model compared to another. \n",
    "\n",
    "When we computed these ratios, the Bayes factor, in the previous section, it was\n",
    "made up of two ingredients. \n",
    "\n",
    "1. We had our likelihood that related parameter values to our data. It told\n",
    "us the relative probability of obtaining our data under different values of the\n",
    "the parameter (the coin bias)\n",
    "\n",
    "2. We had priors, which assigned different probabilities to the different values\n",
    "of the parameter. These served as our hypotheses about the parameter (the coin\n",
    "bias), and they served as the *weights* for our average of the likelihood. \n",
    "We had one prior for each hypothesis.\n",
    "\n",
    "To perform the computation itself, we multiplied the prior by the likelihood,\n",
    "and took the weighted average, by taking the integral. Mathematically, we did\n",
    "the following:\n",
    "\n",
    "$$\\mathcal{M}_H = \\int_{\\theta\\in\\Theta_H}\\mathcal{L}_H(\\theta|\\mathbf{y})p(\\theta)d\\theta$$\n",
    "\n",
    "We did this for each hypothesis (e.g., $\\mathcal{M}_0$ and $\\mathcal{M}_1$),\n",
    "and then took the ratio $\\frac{\\mathcal{M}_0}{\\mathcal{M}_1}$. And this ratio\n",
    "was the Bayes factor.\n",
    "\n",
    "$$\\mathrm{BF}_{01} = \\frac{\\mathcal{M}_0}{\\mathcal{M_1}}$$\n",
    "\n",
    "## Computing Bayes factors with `bayesplay`\n",
    "\n",
    "To actually compute Bayes factors we're going to use an `R` package called \n",
    "`bayesplay`. The `bayesplay` package allows you to specify likelihoods and \n",
    "priors, and to perform some operations on them. The operations, described above.\n",
    "\n",
    "Let's step through some `R` to see how we would actually do it:"
   ]
  },
  {
   "cell_type": "markdown",
   "id": "88100e1d",
   "metadata": {},
   "source": [
    "First, we specify the likelihood. We'll specify a likelihood of the **binomial**\n",
    "family. It requires 2 inputs. The number of heads, and the number of flips."
   ]
  },
  {
   "cell_type": "code",
   "execution_count": null,
   "id": "4793bd42",
   "metadata": {},
   "outputs": [],
   "source": [
    "#| include: TRUE\n",
    "#| echo: TRUE\n",
    "data_model <- likelihood(family = \"binomial\", successes = 8, trials = 10)"
   ]
  },
  {
   "cell_type": "markdown",
   "id": "1502be99",
   "metadata": {},
   "source": [
    "Second, we'll specify the two priors. For the first, we'll set a **point** prior\n",
    "at 0.5 to represent our fair coin hypothesis."
   ]
  },
  {
   "cell_type": "code",
   "execution_count": null,
   "id": "e68d26d3",
   "metadata": {},
   "outputs": [],
   "source": [
    "#| include: TRUE\n",
    "#| echo: TRUE\n",
    "fair_coin <- prior(family = \"point\", point = 0.5)"
   ]
  },
  {
   "cell_type": "markdown",
   "id": "bbaad63c",
   "metadata": {},
   "source": [
    "Next, we'll use a **uniform** prior to represent equal weights for all values \n",
    "between 0 and 1. There's two ways we can do this. First, we can use the \n",
    "**uniform** family."
   ]
  },
  {
   "cell_type": "code",
   "execution_count": null,
   "id": "42092351",
   "metadata": {},
   "outputs": [],
   "source": [
    "#| include: TRUE\n",
    "#| echo: TRUE\n",
    "unfair_coin <- prior(family = \"uniform\", min = 0, max = 1)"
   ]
  },
  {
   "cell_type": "markdown",
   "id": "ba541375",
   "metadata": {},
   "source": [
    "But we can also use the **beta** family. The result will be the same in either\n",
    "case."
   ]
  },
  {
   "cell_type": "code",
   "execution_count": null,
   "id": "182d9b3c",
   "metadata": {
    "lines_to_next_cell": 2
   },
   "outputs": [],
   "source": [
    "#| include: TRUE\n",
    "#| echo: TRUE\n",
    "unfair_coin <- prior(family = \"beta\", alpha = 1, beta = 1)"
   ]
  },
  {
   "cell_type": "markdown",
   "id": "34439276",
   "metadata": {},
   "source": [
    "Since we've been visualizing everything so far, we can also visualise the \n",
    "likelihood and priors we've just defined. To do this, we just use the `plot()`\n",
    "function.\n"
   ]
  },
  {
   "cell_type": "code",
   "execution_count": null,
   "id": "8d6653ac",
   "metadata": {},
   "outputs": [],
   "source": [
    "#| include: TRUE\n",
    "#| echo: TRUE\n",
    "plot(data_model) +\n",
    "  theme_minimal(14)"
   ]
  },
  {
   "cell_type": "code",
   "execution_count": null,
   "id": "b58cee9c",
   "metadata": {
    "lines_to_next_cell": 0
   },
   "outputs": [],
   "source": [
    "#| include: TRUE\n",
    "#| echo: TRUE\n",
    "plot(fair_coin) +\n",
    "  theme_minimal(14)"
   ]
  },
  {
   "cell_type": "code",
   "execution_count": null,
   "id": "2cfbd805",
   "metadata": {},
   "outputs": [],
   "source": [
    "#| include: TRUE\n",
    "#| echo: TRUE\n",
    "plot(unfair_coin) +\n",
    "  theme_minimal(14)"
   ]
  },
  {
   "cell_type": "markdown",
   "id": "04e65b0b",
   "metadata": {},
   "source": [
    "The next step was to multiply the likelihood by the prior. We'll do this for\n",
    "our likelihood and each of the prior."
   ]
  },
  {
   "cell_type": "code",
   "execution_count": null,
   "id": "fb0b42cd",
   "metadata": {},
   "outputs": [],
   "source": [
    "#| include: TRUE\n",
    "#| echo: TRUE\n",
    "m0 <- data_model * fair_coin\n",
    "m1 <- data_model * unfair_coin"
   ]
  },
  {
   "cell_type": "markdown",
   "id": "49afaf7b",
   "metadata": {},
   "source": [
    "Plotting these isn't super informative, but we can do it anyway."
   ]
  },
  {
   "cell_type": "code",
   "execution_count": null,
   "id": "c1e497f5",
   "metadata": {},
   "outputs": [],
   "source": [
    "#| include: TRUE\n",
    "#| echo: TRUE\n",
    "plot(m0) +\n",
    "  theme_minimal(14)"
   ]
  },
  {
   "cell_type": "code",
   "execution_count": null,
   "id": "51a2ddc1",
   "metadata": {
    "lines_to_next_cell": 2
   },
   "outputs": [],
   "source": [
    "#| include: TRUE\n",
    "#| echo: TRUE\n",
    "plot(m1) +\n",
    "  theme_minimal(14)"
   ]
  },
  {
   "cell_type": "markdown",
   "id": "a35ca160",
   "metadata": {},
   "source": [
    "The next step is to work our the area under each of these curves. That is, work \n",
    "out that integral. To do this, we just use the `integral()` function."
   ]
  },
  {
   "cell_type": "code",
   "execution_count": null,
   "id": "6728ad54",
   "metadata": {
    "lines_to_next_cell": 2
   },
   "outputs": [],
   "source": [
    "#| include: TRUE\n",
    "#| echo: TRUE\n",
    "int_m0 <- integral(m0)\n",
    "int_m1 <- integral(m1)"
   ]
  },
  {
   "cell_type": "markdown",
   "id": "e8166cd1",
   "metadata": {},
   "source": [
    "And finally, we just take the ratio of these two values to get the Bayes factor."
   ]
  },
  {
   "cell_type": "code",
   "execution_count": null,
   "id": "1a64a504",
   "metadata": {},
   "outputs": [],
   "source": [
    "#| include: TRUE\n",
    "#| echo: TRUE\n",
    "bf <- int_m1 / int_m0"
   ]
  },
  {
   "cell_type": "code",
   "execution_count": null,
   "id": "6c9eeccf",
   "metadata": {},
   "outputs": [],
   "source": [
    "glue::glue(\"The bayes factor is {round(bf,3)}\") %>%\n",
    "  display_markdown()"
   ]
  },
  {
   "cell_type": "markdown",
   "id": "4d54038f",
   "metadata": {},
   "source": [
    "And that's all there is to it. \n",
    "\n",
    "However, we can do a little more. In the previous section we saw plots that showed\n",
    "the predictions of each model and highlighted our specific observation. We can\n",
    "also generate these easily with `bayesplay`. We simply use the `visual_compare()`\n",
    "function, and give the two models (the likelihood $\\times$ the prior) as inputs."
   ]
  },
  {
   "cell_type": "code",
   "execution_count": null,
   "id": "f387855f",
   "metadata": {
    "lines_to_next_cell": 2
   },
   "outputs": [],
   "source": [
    "#| include: TRUE\n",
    "#| echo: TRUE\n",
    "\n",
    "visual_compare(m1, m0) +\n",
    "  theme_minimal(14)"
   ]
  },
  {
   "cell_type": "markdown",
   "id": "34e3a303",
   "metadata": {},
   "source": [
    "## Computing Bayes factors with Bayesplay-Web\n",
    "\n",
    "If you're not super proficient with `R`, then you can use the **Bayesplay-Web**\n",
    "app to compute Bayes factors. The **Bayesplay-Web** will even generate the `R`\n",
    "code for you. To access the web-app go to\n",
    "[bayesplay.mindsci.net](https://bayesplay.mindsci.net).\n",
    "\n",
    "Below is an image of the **Bayesplay-Web** interface. \n",
    "\n",
    "![](https://raw.githubusercontent.com/ljcolling/bayes2022/main/_site/bayesplay_interface.png)"
   ]
  },
  {
   "cell_type": "markdown",
   "id": "3b3261ec",
   "metadata": {},
   "source": [
    "![](https://raw.githubusercontent.com/ljcolling/bayes2022/main/_site/define_likelihood.png)\n",
    "\n",
    "Then we define the prior for unfair coin.\n",
    "\n",
    "![](https://raw.githubusercontent.com/ljcolling/bayes2022/main/_site/alt_prior.png)"
   ]
  },
  {
   "cell_type": "markdown",
   "id": "7eae360a",
   "metadata": {},
   "source": [
    "And then the prior for the fair coin.\n",
    "\n",
    "![](https://raw.githubusercontent.com/ljcolling/bayes2022/main/_site/null_prior.png)\n",
    "\n",
    "And then we click **Calculate** to get our answer."
   ]
  },
  {
   "cell_type": "markdown",
   "id": "f9afe7d5",
   "metadata": {},
   "source": [
    "![](https://raw.githubusercontent.com/ljcolling/bayes2022/main/_site/calculate.png)\n",
    "\n",
    "The BF10 value shows the evidence for the alternative model over the null\n",
    "model. The BF01 value is the inverse, and shows the evidence for the null model\n",
    "over the alternative model\"\n",
    "\n",
    "Toggling the **Show R Code** button will show you the `R` code you need to compute\n",
    "the model.\n",
    "\n",
    "![](https://raw.githubusercontent.com/ljcolling/bayes2022/main/_site/show_rcode.png)\n",
    "\n",
    "And finally, clicking on **View advanced output** will take you to a new screen\n",
    "where you can view some additional output including the model predictions. "
   ]
  },
  {
   "cell_type": "markdown",
   "id": "257e81a0",
   "metadata": {},
   "source": [
    "![](https://raw.githubusercontent.com/ljcolling/bayes2022/main/_site/model_predictions.png)\n",
    "\n",
    "## Moving beyond coin flips\n",
    "\n",
    "In the next section, we'll learn how to calculate Bayes factors with different \n",
    "kinds of likelihoods for different kinds of data that we might encounter. We'll\n",
    "also go in to more detail about different kinds of priors we might want to use\n",
    "and why we might want to use them.\n",
    "\n",
    "In the meantime, you can play around with the **web-app** and have a look\n",
    "through the documentation for the `R` package (available at\n",
    "[bayesplay.github.io/bayesplay/](https://bayesplay.github.io/bayesplay/)).\n",
    "You'll have to submit `R` code for the assessment (either written yourself or\n",
    "generated with the web-app) so it pays to familiarise yourself with it. \n",
    "\n",
    "\n",
    "\n"
   ]
  }
 ],
 "metadata": {
  "kernelspec": {
   "display_name": "R",
   "language": "R",
   "name": "ir"
  }
 },
 "nbformat": 4,
 "nbformat_minor": 5
}
